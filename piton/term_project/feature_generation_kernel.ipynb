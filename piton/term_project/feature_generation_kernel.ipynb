{
 "cells": [
  {
   "cell_type": "code",
   "execution_count": 73,
   "metadata": {},
   "outputs": [],
   "source": [
    "import pandas as pd\n",
    "import numpy as np\n",
    "import os"
   ]
  },
  {
   "cell_type": "code",
   "execution_count": 74,
   "metadata": {},
   "outputs": [],
   "source": [
    "# Read game-by-game data for each season\n",
    "df1 = pd.read_csv('./dataset/game_data/season-1314_csv.csv')\n",
    "df2 = pd.read_csv('./dataset/game_data/season-1415_csv.csv')\n",
    "df3 = pd.read_csv('./dataset/game_data/season-1516_csv.csv')\n",
    "df4 = pd.read_csv('./dataset/game_data/season-1617_csv.csv')\n",
    "df5 = pd.read_csv('./dataset/game_data/season-1718_csv.csv')\n",
    "\n",
    "# Read Market Values Data\n",
    "team_values=pd.read_csv('./dataset/team_values/team_values.csv')\n",
    "team_values.set_index('Team',inplace=True)\n",
    "\n",
    "# Read Team Fifa Stats Data\n",
    "team_fifa_stats = pd.read_csv('./dataset/team_fifa_stats/team_fifa_stats.csv')\n",
    "team_fifa_stats.set_index('Orj_Team',inplace=True)\n",
    "\n",
    "# Concatenate data frames and get rid of old ones\n",
    "main = pd.concat([df1,df2,df3,df4,df5],axis=0)\n",
    "del df1, df2, df3, df4, df5\n",
    "\n",
    "# Create the target column which is the total number of corners in a game (e.g. Home Corners + Away Corners)\n",
    "main['TARGET']=main.HC+main.AC\n",
    "main.reset_index(inplace=True)"
   ]
  },
  {
   "cell_type": "code",
   "execution_count": 98,
   "metadata": {},
   "outputs": [],
   "source": [
    "# Read Team Fifa Stats Data\n",
    "team_fifa_stats = pd.read_csv('./dataset/team_fifa_stats/team_fifa_stats.csv')\n",
    "team_fifa_stats.set_index('Orj_Team',inplace=True)"
   ]
  },
  {
   "cell_type": "code",
   "execution_count": 146,
   "metadata": {},
   "outputs": [],
   "source": [
    "# Run all the functions needed for feature generation\n",
    "file_list = [e for e in os.listdir('./feature_dictionary/fetaure_generation_functions') if e[-3:] == '.py']\n",
    "for file in file_list:\n",
    "    exec(open('./feature_dictionary/fetaure_generation_functions/'+file).read())"
   ]
  },
  {
   "cell_type": "code",
   "execution_count": 75,
   "metadata": {},
   "outputs": [],
   "source": [
    "train_df = main.copy()"
   ]
  },
  {
   "cell_type": "code",
   "execution_count": 76,
   "metadata": {},
   "outputs": [],
   "source": [
    "train_df['HOME_LG_GOALS_L1W']=train_df.apply(func_HOME_LG_GOALS_L1W,axis=1)\n",
    "train_df['HOME_LG_GOALS_L2W']=train_df.apply(func_HOME_LG_GOALS_L2W,axis=1)\n",
    "train_df['HOME_LG_GOALS_L3W']=train_df.apply(func_HOME_LG_GOALS_L3W,axis=1)\n",
    "train_df['HOME_LG_GOALS_L3W_COMB']=train_df.HOME_LG_GOALS_L1W+train_df.HOME_LG_GOALS_L2W+train_df.HOME_LG_GOALS_L3W"
   ]
  },
  {
   "cell_type": "code",
   "execution_count": 77,
   "metadata": {},
   "outputs": [],
   "source": [
    "train_df['HOME_LG_GOALS_H_L1W']=train_df.apply(func_HOME_LG_GOALS_H_L1W,axis=1)\n",
    "train_df['HOME_LG_GOALS_H_L2W']=train_df.apply(func_HOME_LG_GOALS_H_L2W,axis=1)\n",
    "train_df['HOME_LG_GOALS_H_L3W']=train_df.apply(func_HOME_LG_GOALS_H_L3W,axis=1)\n",
    "train_df['HOME_LG_GOALS_H_L3W_COMB']=train_df.HOME_LG_GOALS_H_L1W+train_df.HOME_LG_GOALS_H_L2W+train_df.HOME_LG_GOALS_H_L3W"
   ]
  },
  {
   "cell_type": "code",
   "execution_count": 78,
   "metadata": {},
   "outputs": [],
   "source": [
    "train_df['HOME_LG_GOALS_A_L1W']=train_df.apply(func_HOME_LG_GOALS_A_L1W,axis=1)\n",
    "train_df['HOME_LG_GOALS_A_L2W']=train_df.apply(func_HOME_LG_GOALS_A_L2W,axis=1)\n",
    "train_df['HOME_LG_GOALS_A_L3W']=train_df.apply(func_HOME_LG_GOALS_A_L3W,axis=1)\n",
    "train_df['HOME_LG_GOALS_A_L3W_COMB']=train_df.HOME_LG_GOALS_A_L1W+train_df.HOME_LG_GOALS_A_L2W+train_df.HOME_LG_GOALS_A_L3W"
   ]
  },
  {
   "cell_type": "code",
   "execution_count": 79,
   "metadata": {},
   "outputs": [],
   "source": [
    "train_df['HOME_LG_SHOTS_L1W']=train_df.apply(func_HOME_LG_SHOTS_L1W,axis=1)\n",
    "train_df['HOME_LG_SHOTS_L2W']=train_df.apply(func_HOME_LG_SHOTS_L2W,axis=1)\n",
    "train_df['HOME_LG_SHOTS_L3W']=train_df.apply(func_HOME_LG_SHOTS_L3W,axis=1)\n",
    "train_df['HOME_LG_SHOTS_L3W_COMB']=train_df.HOME_LG_SHOTS_L1W+train_df.HOME_LG_SHOTS_L2W+train_df.HOME_LG_SHOTS_L3W"
   ]
  },
  {
   "cell_type": "code",
   "execution_count": 80,
   "metadata": {},
   "outputs": [],
   "source": [
    "train_df['HOME_LG_SHOTS_H_L1W']=train_df.apply(func_HOME_LG_SHOTS_H_L1W,axis=1)\n",
    "train_df['HOME_LG_SHOTS_H_L2W']=train_df.apply(func_HOME_LG_SHOTS_H_L2W,axis=1)\n",
    "train_df['HOME_LG_SHOTS_H_L3W']=train_df.apply(func_HOME_LG_SHOTS_H_L3W,axis=1)\n",
    "train_df['HOME_LG_SHOTS_H_L3W_COMB']=train_df.HOME_LG_SHOTS_H_L1W+train_df.HOME_LG_SHOTS_H_L2W+train_df.HOME_LG_SHOTS_H_L3W"
   ]
  },
  {
   "cell_type": "code",
   "execution_count": 81,
   "metadata": {},
   "outputs": [],
   "source": [
    "train_df['HOME_LG_SHOTS_A_L1W']=train_df.apply(func_HOME_LG_SHOTS_A_L1W,axis=1)\n",
    "train_df['HOME_LG_SHOTS_A_L2W']=train_df.apply(func_HOME_LG_SHOTS_A_L2W,axis=1)\n",
    "train_df['HOME_LG_SHOTS_A_L3W']=train_df.apply(func_HOME_LG_SHOTS_A_L3W,axis=1)\n",
    "train_df['HOME_LG_SHOTS_A_L3W_COMB']=train_df.HOME_LG_SHOTS_A_L1W+train_df.HOME_LG_SHOTS_A_L2W+train_df.HOME_LG_SHOTS_A_L3W"
   ]
  },
  {
   "cell_type": "code",
   "execution_count": 109,
   "metadata": {},
   "outputs": [],
   "source": [
    "train_df['HOME_LG_SHOTS_OT_L1W']=train_df.apply(func_HOME_LG_SHOTS_OT_L1W,axis=1)\n",
    "train_df['HOME_LG_SHOTS_OT_L2W']=train_df.apply(func_HOME_LG_SHOTS_OT_L2W,axis=1)\n",
    "train_df['HOME_LG_SHOTS_OT_L3W']=train_df.apply(func_HOME_LG_SHOTS_OT_L3W,axis=1)\n",
    "train_df['HOME_LG_SHOTS_OT_L3W_COMB']=train_df.HOME_LG_SHOTS_OT_L1W+train_df.HOME_LG_SHOTS_OT_L2W+train_df.HOME_LG_SHOTS_OT_L3W"
   ]
  },
  {
   "cell_type": "code",
   "execution_count": 110,
   "metadata": {},
   "outputs": [],
   "source": [
    "train_df['HOME_LG_SHOTS_OT_H_L1W']=train_df.apply(func_HOME_LG_SHOTS_OT_H_L1W,axis=1)\n",
    "train_df['HOME_LG_SHOTS_OT_H_L2W']=train_df.apply(func_HOME_LG_SHOTS_OT_H_L2W,axis=1)\n",
    "train_df['HOME_LG_SHOTS_OT_H_L3W']=train_df.apply(func_HOME_LG_SHOTS_OT_H_L3W,axis=1)\n",
    "train_df['HOME_LG_SHOTS_OT_H_L3W_COMB']=train_df.HOME_LG_SHOTS_OT_H_L1W+train_df.HOME_LG_SHOTS_OT_H_L2W+train_df.HOME_LG_SHOTS_OT_H_L3W"
   ]
  },
  {
   "cell_type": "code",
   "execution_count": 111,
   "metadata": {},
   "outputs": [],
   "source": [
    "train_df['HOME_LG_SHOTS_OT_A_L1W']=train_df.apply(func_HOME_LG_SHOTS_OT_A_L1W,axis=1)\n",
    "train_df['HOME_LG_SHOTS_OT_A_L2W']=train_df.apply(func_HOME_LG_SHOTS_OT_A_L2W,axis=1)\n",
    "train_df['HOME_LG_SHOTS_OT_A_L3W']=train_df.apply(func_HOME_LG_SHOTS_OT_A_L3W,axis=1)\n",
    "train_df['HOME_LG_SHOTS_OT_A_L3W_COMB']=train_df.HOME_LG_SHOTS_OT_A_L1W+train_df.HOME_LG_SHOTS_OT_A_L2W+train_df.HOME_LG_SHOTS_OT_A_L3W"
   ]
  },
  {
   "cell_type": "code",
   "execution_count": 82,
   "metadata": {},
   "outputs": [],
   "source": [
    "train_df['AWAY_LG_GOALS_L1W']=train_df.apply(func_AWAY_LG_GOALS_L1W,axis=1)\n",
    "train_df['AWAY_LG_GOALS_L2W']=train_df.apply(func_AWAY_LG_GOALS_L2W,axis=1)\n",
    "train_df['AWAY_LG_GOALS_L3W']=train_df.apply(func_AWAY_LG_GOALS_L3W,axis=1)\n",
    "train_df['AWAY_LG_GOALS_L3W_COMB']=train_df.AWAY_LG_GOALS_L1W+train_df.AWAY_LG_GOALS_L2W+train_df.AWAY_LG_GOALS_L3W"
   ]
  },
  {
   "cell_type": "code",
   "execution_count": 83,
   "metadata": {},
   "outputs": [],
   "source": [
    "train_df['AWAY_LG_GOALS_H_L1W']=train_df.apply(func_AWAY_LG_GOALS_H_L1W,axis=1)\n",
    "train_df['AWAY_LG_GOALS_H_L2W']=train_df.apply(func_AWAY_LG_GOALS_H_L2W,axis=1)\n",
    "train_df['AWAY_LG_GOALS_H_L3W']=train_df.apply(func_AWAY_LG_GOALS_H_L3W,axis=1)\n",
    "train_df['AWAY_LG_GOALS_H_L3W_COMB']=train_df.AWAY_LG_GOALS_H_L1W+train_df.AWAY_LG_GOALS_H_L2W+train_df.AWAY_LG_GOALS_H_L3W"
   ]
  },
  {
   "cell_type": "code",
   "execution_count": 84,
   "metadata": {},
   "outputs": [],
   "source": [
    "train_df['AWAY_LG_GOALS_A_L1W']=train_df.apply(func_AWAY_LG_GOALS_A_L1W,axis=1)\n",
    "train_df['AWAY_LG_GOALS_A_L2W']=train_df.apply(func_AWAY_LG_GOALS_A_L2W,axis=1)\n",
    "train_df['AWAY_LG_GOALS_A_L3W']=train_df.apply(func_AWAY_LG_GOALS_A_L3W,axis=1)\n",
    "train_df['AWAY_LG_GOALS_A_L3W_COMB']=train_df.AWAY_LG_GOALS_A_L1W+train_df.AWAY_LG_GOALS_A_L2W+train_df.AWAY_LG_GOALS_A_L3W"
   ]
  },
  {
   "cell_type": "code",
   "execution_count": 85,
   "metadata": {},
   "outputs": [],
   "source": [
    "train_df['AWAY_LG_SHOTS_L1W']=train_df.apply(func_AWAY_LG_SHOTS_L1W,axis=1)\n",
    "train_df['AWAY_LG_SHOTS_L2W']=train_df.apply(func_AWAY_LG_SHOTS_L2W,axis=1)\n",
    "train_df['AWAY_LG_SHOTS_L3W']=train_df.apply(func_AWAY_LG_SHOTS_L3W,axis=1)\n",
    "train_df['AWAY_LG_SHOTS_L3W_COMB']=train_df.AWAY_LG_SHOTS_L1W+train_df.AWAY_LG_SHOTS_L2W+train_df.AWAY_LG_SHOTS_L3W"
   ]
  },
  {
   "cell_type": "code",
   "execution_count": 86,
   "metadata": {},
   "outputs": [],
   "source": [
    "train_df['AWAY_LG_SHOTS_H_L1W']=train_df.apply(func_AWAY_LG_SHOTS_H_L1W,axis=1)\n",
    "train_df['AWAY_LG_SHOTS_H_L2W']=train_df.apply(func_AWAY_LG_SHOTS_H_L2W,axis=1)\n",
    "train_df['AWAY_LG_SHOTS_H_L3W']=train_df.apply(func_AWAY_LG_SHOTS_H_L3W,axis=1)\n",
    "train_df['AWAY_LG_SHOTS_H_L3W_COMB']=train_df.AWAY_LG_SHOTS_H_L1W+train_df.AWAY_LG_SHOTS_H_L2W+train_df.AWAY_LG_SHOTS_H_L3W"
   ]
  },
  {
   "cell_type": "code",
   "execution_count": 87,
   "metadata": {},
   "outputs": [],
   "source": [
    "train_df['AWAY_LG_SHOTS_A_L1W']=train_df.apply(func_AWAY_LG_SHOTS_A_L1W,axis=1)\n",
    "train_df['AWAY_LG_SHOTS_A_L2W']=train_df.apply(func_AWAY_LG_SHOTS_A_L2W,axis=1)\n",
    "train_df['AWAY_LG_SHOTS_A_L3W']=train_df.apply(func_AWAY_LG_SHOTS_A_L3W,axis=1)\n",
    "train_df['AWAY_LG_SHOTS_A_L3W_COMB']=train_df.AWAY_LG_SHOTS_A_L1W+train_df.AWAY_LG_SHOTS_A_L2W+train_df.AWAY_LG_SHOTS_A_L3W"
   ]
  },
  {
   "cell_type": "code",
   "execution_count": 112,
   "metadata": {},
   "outputs": [],
   "source": [
    "train_df['AWAY_LG_SHOTS_OT_L1W']=train_df.apply(func_AWAY_LG_SHOTS_OT_L1W,axis=1)\n",
    "train_df['AWAY_LG_SHOTS_OT_L2W']=train_df.apply(func_AWAY_LG_SHOTS_OT_L2W,axis=1)\n",
    "train_df['AWAY_LG_SHOTS_OT_L3W']=train_df.apply(func_AWAY_LG_SHOTS_OT_L3W,axis=1)\n",
    "train_df['AWAY_LG_SHOTS_OT_L3W_COMB']=train_df.AWAY_LG_SHOTS_OT_L1W+train_df.AWAY_LG_SHOTS_OT_L2W+train_df.AWAY_LG_SHOTS_OT_L3W"
   ]
  },
  {
   "cell_type": "code",
   "execution_count": 113,
   "metadata": {},
   "outputs": [],
   "source": [
    "train_df['AWAY_LG_SHOTS_OT_H_L1W']=train_df.apply(func_AWAY_LG_SHOTS_OT_H_L1W,axis=1)\n",
    "train_df['AWAY_LG_SHOTS_OT_H_L2W']=train_df.apply(func_AWAY_LG_SHOTS_OT_H_L2W,axis=1)\n",
    "train_df['AWAY_LG_SHOTS_OT_H_L3W']=train_df.apply(func_AWAY_LG_SHOTS_OT_H_L3W,axis=1)\n",
    "train_df['AWAY_LG_SHOTS_OT_H_L3W_COMB']=train_df.AWAY_LG_SHOTS_OT_H_L1W+train_df.AWAY_LG_SHOTS_OT_H_L2W+train_df.AWAY_LG_SHOTS_OT_H_L3W"
   ]
  },
  {
   "cell_type": "code",
   "execution_count": 114,
   "metadata": {},
   "outputs": [],
   "source": [
    "train_df['AWAY_LG_SHOTS_OT_A_L1W']=train_df.apply(func_AWAY_LG_SHOTS_OT_A_L1W,axis=1)\n",
    "train_df['AWAY_LG_SHOTS_OT_A_L2W']=train_df.apply(func_AWAY_LG_SHOTS_OT_A_L2W,axis=1)\n",
    "train_df['AWAY_LG_SHOTS_OT_A_L3W']=train_df.apply(func_AWAY_LG_SHOTS_OT_A_L3W,axis=1)\n",
    "train_df['AWAY_LG_SHOTS_OT_A_L3W_COMB']=train_df.AWAY_LG_SHOTS_OT_A_L1W+train_df.AWAY_LG_SHOTS_OT_A_L2W+train_df.AWAY_LG_SHOTS_OT_A_L3W"
   ]
  },
  {
   "cell_type": "code",
   "execution_count": 88,
   "metadata": {},
   "outputs": [],
   "source": [
    "train_df['HOME_MKT_VAL']=train_df.apply(func_HOME_MKT_VAL,axis=1)\n",
    "train_df['AWAY_MKT_VAL']=train_df.apply(func_AWAY_MKT_VAL,axis=1)\n",
    "train_df['ABS_DIFF_MKT_VAL']=abs(train_df.HOME_MKT_VAL-train_df.AWAY_MKT_VAL)"
   ]
  },
  {
   "cell_type": "code",
   "execution_count": 101,
   "metadata": {},
   "outputs": [],
   "source": [
    "train_df['HOME_L0S_FIFA_SCR_ATK']=train_df.apply(func_HOME_L0S_FIFA_SCR_ATK, axis=1)\n",
    "train_df['HOME_L0S_FIFA_SCR_ORT']=train_df.apply(func_HOME_L0S_FIFA_SCR_ORT, axis=1)\n",
    "train_df['HOME_L0S_FIFA_SCR_DEF']=train_df.apply(func_HOME_L0S_FIFA_SCR_DEF, axis=1)\n",
    "train_df['HOME_L0S_FIFA_SCR_OVR']=train_df.apply(func_HOME_L0S_FIFA_SCR_OVR, axis=1)"
   ]
  },
  {
   "cell_type": "code",
   "execution_count": 105,
   "metadata": {},
   "outputs": [],
   "source": [
    "train_df['AWAY_L0S_FIFA_SCR_ATK']=train_df.apply(func_AWAY_L0S_FIFA_SCR_ATK, axis=1)\n",
    "train_df['AWAY_L0S_FIFA_SCR_ORT']=train_df.apply(func_AWAY_L0S_FIFA_SCR_ORT, axis=1)\n",
    "train_df['AWAY_L0S_FIFA_SCR_DEF']=train_df.apply(func_AWAY_L0S_FIFA_SCR_DEF, axis=1)\n",
    "train_df['AWAY_L0S_FIFA_SCR_OVR']=train_df.apply(func_AWAY_L0S_FIFA_SCR_OVR, axis=1)"
   ]
  },
  {
   "cell_type": "code",
   "execution_count": 106,
   "metadata": {},
   "outputs": [],
   "source": [
    "train_df['ABS_DIFF_L0S_FIFA_SCR_ATK']=abs(train_df.HOME_L0S_FIFA_SCR_ATK-train_df.AWAY_L0S_FIFA_SCR_ATK)\n",
    "train_df['ABS_DIFF_L0S_FIFA_SCR_ORT']=abs(train_df.HOME_L0S_FIFA_SCR_ORT-train_df.AWAY_L0S_FIFA_SCR_ORT)\n",
    "train_df['ABS_DIFF_L0S_FIFA_SCR_DEF']=abs(train_df.HOME_L0S_FIFA_SCR_DEF-train_df.AWAY_L0S_FIFA_SCR_DEF)\n",
    "train_df['ABS_DIFF_L0S_FIFA_SCR_OVR']=abs(train_df.HOME_L0S_FIFA_SCR_OVR-train_df.AWAY_L0S_FIFA_SCR_OVR)"
   ]
  },
  {
   "cell_type": "code",
   "execution_count": 129,
   "metadata": {},
   "outputs": [],
   "source": [
    "train_df['H2H_TOT_CORNERS_HA_L1G']=train_df.apply(func_H2H_TOT_CORNERS_HA_L1G, axis=1)\n",
    "train_df['H2H_TOT_CORNERS_HA_L2G']=train_df.apply(func_H2H_TOT_CORNERS_HA_L2G, axis=1)\n",
    "train_df['H2H_TOT_CORNERS_HA_L3G']=train_df.apply(func_H2H_TOT_CORNERS_HA_L3G, axis=1)\n",
    "train_df['H2H_TOT_CORNERS_HA_L3G_AVG']=np.round(np.nanmean([train_df.H2H_TOT_CORNERS_HA_L1G,train_df.H2H_TOT_CORNERS_HA_L2G,train_df.H2H_TOT_CORNERS_HA_L3G],axis=0),2)"
   ]
  },
  {
   "cell_type": "code",
   "execution_count": 147,
   "metadata": {},
   "outputs": [
    {
     "name": "stderr",
     "output_type": "stream",
     "text": [
      "/home/oguz/anaconda3/lib/python3.7/site-packages/ipykernel_launcher.py:4: RuntimeWarning: Mean of empty slice\n",
      "  after removing the cwd from sys.path.\n"
     ]
    }
   ],
   "source": [
    "train_df['H2H_TOT_SHOTS_HA_L1G']=train_df.apply(func_H2H_TOT_SHOTS_HA_L1G, axis=1)\n",
    "train_df['H2H_TOT_SHOTS_HA_L2G']=train_df.apply(func_H2H_TOT_SHOTS_HA_L2G, axis=1)\n",
    "train_df['H2H_TOT_SHOTS_HA_L3G']=train_df.apply(func_H2H_TOT_SHOTS_HA_L3G, axis=1)\n",
    "train_df['H2H_TOT_SHOTS_HA_L3G_AVG']=np.round(np.nanmean([train_df.H2H_TOT_SHOTS_HA_L1G,train_df.H2H_TOT_SHOTS_HA_L2G,train_df.H2H_TOT_SHOTS_HA_L3G],axis=0),2)"
   ]
  },
  {
   "cell_type": "code",
   "execution_count": 150,
   "metadata": {},
   "outputs": [],
   "source": [
    "train_df.to_csv('training_data.csv')"
   ]
  }
 ],
 "metadata": {
  "kernelspec": {
   "display_name": "Python 3",
   "language": "python",
   "name": "python3"
  },
  "language_info": {
   "codemirror_mode": {
    "name": "ipython",
    "version": 3
   },
   "file_extension": ".py",
   "mimetype": "text/x-python",
   "name": "python",
   "nbconvert_exporter": "python",
   "pygments_lexer": "ipython3",
   "version": "3.7.3"
  }
 },
 "nbformat": 4,
 "nbformat_minor": 2
}
