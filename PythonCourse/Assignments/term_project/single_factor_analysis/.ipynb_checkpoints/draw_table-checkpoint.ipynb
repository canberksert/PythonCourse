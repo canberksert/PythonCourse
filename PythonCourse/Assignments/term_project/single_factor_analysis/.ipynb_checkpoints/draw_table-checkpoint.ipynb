{
 "cells": [
  {
   "cell_type": "code",
   "execution_count": 1,
   "metadata": {
    "collapsed": true
   },
   "outputs": [
    {
     "ename": "NameError",
     "evalue": "name 'stats_df' is not defined",
     "output_type": "error",
     "traceback": [
      "\u001b[0;31m---------------------------------------------------------------------------\u001b[0m",
      "\u001b[0;31mNameError\u001b[0m                                 Traceback (most recent call last)",
      "\u001b[0;32m<ipython-input-1-5110e0144834>\u001b[0m in \u001b[0;36m<module>\u001b[0;34m\u001b[0m\n\u001b[0;32m----> 1\u001b[0;31m \u001b[0mcell_values\u001b[0m \u001b[0;34m=\u001b[0m \u001b[0mlist\u001b[0m\u001b[0;34m(\u001b[0m\u001b[0mstats_df\u001b[0m\u001b[0;34m.\u001b[0m\u001b[0miloc\u001b[0m\u001b[0;34m[\u001b[0m\u001b[0;36m0\u001b[0m\u001b[0;34m]\u001b[0m\u001b[0;34m)\u001b[0m\u001b[0;34m\u001b[0m\u001b[0;34m\u001b[0m\u001b[0m\n\u001b[0m\u001b[1;32m      2\u001b[0m \u001b[0;34m\u001b[0m\u001b[0m\n\u001b[1;32m      3\u001b[0m \u001b[0mcell_values\u001b[0m\u001b[0;34m[\u001b[0m\u001b[0;36m0\u001b[0m\u001b[0;34m]\u001b[0m\u001b[0;34m=\u001b[0m\u001b[0;34m'{:.2%}'\u001b[0m\u001b[0;34m.\u001b[0m\u001b[0mformat\u001b[0m\u001b[0;34m(\u001b[0m\u001b[0mcell_values\u001b[0m\u001b[0;34m[\u001b[0m\u001b[0;36m1\u001b[0m\u001b[0;34m]\u001b[0m\u001b[0;34m)\u001b[0m\u001b[0;34m\u001b[0m\u001b[0;34m\u001b[0m\u001b[0m\n\u001b[1;32m      4\u001b[0m \u001b[0mcell_values\u001b[0m\u001b[0;34m[\u001b[0m\u001b[0;36m0\u001b[0m\u001b[0;34m]\u001b[0m\u001b[0;34m=\u001b[0m\u001b[0;34m'{:.2%}'\u001b[0m\u001b[0;34m.\u001b[0m\u001b[0mformat\u001b[0m\u001b[0;34m(\u001b[0m\u001b[0mcell_values\u001b[0m\u001b[0;34m[\u001b[0m\u001b[0;36m1\u001b[0m\u001b[0;34m]\u001b[0m\u001b[0;34m)\u001b[0m\u001b[0;34m\u001b[0m\u001b[0;34m\u001b[0m\u001b[0m\n\u001b[1;32m      5\u001b[0m \u001b[0mcell_values\u001b[0m\u001b[0;34m[\u001b[0m\u001b[0;36m0\u001b[0m\u001b[0;34m]\u001b[0m\u001b[0;34m=\u001b[0m\u001b[0;34m'{:.2%}'\u001b[0m\u001b[0;34m.\u001b[0m\u001b[0mformat\u001b[0m\u001b[0;34m(\u001b[0m\u001b[0mcell_values\u001b[0m\u001b[0;34m[\u001b[0m\u001b[0;36m1\u001b[0m\u001b[0;34m]\u001b[0m\u001b[0;34m)\u001b[0m\u001b[0;34m\u001b[0m\u001b[0;34m\u001b[0m\u001b[0m\n",
      "\u001b[0;31mNameError\u001b[0m: name 'stats_df' is not defined"
     ]
    }
   ],
   "source": [
    "cell_values = list(stats_df.iloc[0])\n",
    "\n",
    "cell_values[1]='{:.2%}'.format(cell_values[1])\n",
    "cell_values[2]='{:.2%}'.format(cell_values[2])\n",
    "cell_values[3]='{:.6f}'.format(cell_values[3])\n",
    "cell_values[4]='{:.6f}'.format(cell_values[4])\n",
    "cell_values[5]='{:.6f}'.format(cell_values[5])\n",
    "\n",
    "bos_liste=[]\n",
    "for i in cell_values:\n",
    "    bos_liste.append(['<b>'+str(i)+'</b>'])\n",
    "cell_values=bos_liste\n",
    "\n",
    "bos_liste1=[]\n",
    "for i in list(stats_df.columns):\n",
    "    bos_liste1.append('<b>'+str(i)+'</b>')\n",
    "    \n",
    "trace = go.Table(\n",
    "    header=dict(values=bos_liste1,\n",
    "                line=dict(color='rgb(0,0,0)'),\n",
    "                fill=dict(color='rgb(240,240,240)'),\n",
    "                font=dict(color='rgb(0,0,0)',size=16),\n",
    "                align=['left']*5,\n",
    "                height=30\n",
    "               ),\n",
    "    cells=dict(values=cell_values,\n",
    "               line=dict(color='rgb(0,0,0)'),\n",
    "               fill=dict(color='rgb(255,255,255)'),\n",
    "               font=dict(color='rgb(0,0,0)',size=16),\n",
    "               height=30,\n",
    "               align=['left']*5\n",
    "              )\n",
    "    )\n",
    "\n",
    "layout=dict(width=1100,height=260)\n",
    "data=[trace]\n",
    "fig0=dict(data=data,layout=layout)"
   ]
  }
 ],
 "metadata": {
  "kernelspec": {
   "display_name": "Python 3",
   "language": "python",
   "name": "python3"
  },
  "language_info": {
   "codemirror_mode": {
    "name": "ipython",
    "version": 3
   },
   "file_extension": ".py",
   "mimetype": "text/x-python",
   "name": "python",
   "nbconvert_exporter": "python",
   "pygments_lexer": "ipython3",
   "version": "3.7.3"
  }
 },
 "nbformat": 4,
 "nbformat_minor": 2
}
