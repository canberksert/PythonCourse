{
 "cells": [
  {
   "cell_type": "code",
   "execution_count": 179,
   "metadata": {},
   "outputs": [],
   "source": [
    "import pandas as pd\n",
    "import numpy as np"
   ]
  },
  {
   "cell_type": "code",
   "execution_count": 180,
   "metadata": {},
   "outputs": [],
   "source": [
    "# Read game-by-game data for each season\n",
    "df1 = pd.read_csv('season-1314_csv.csv')\n",
    "df2 = pd.read_csv('season-1415_csv.csv')\n",
    "df3 = pd.read_csv('season-1516_csv.csv')\n",
    "df4 = pd.read_csv('season-1617_csv.csv')\n",
    "df5 = pd.read_csv('season-1718_csv.csv')\n",
    "\n",
    "# Concatenate data frames and get rid of old ones\n",
    "main = pd.concat([df1,df2,df3,df4,df5],axis=0)\n",
    "del df1, df2, df3, df4, df5\n",
    "\n",
    "# Create the target column which is the total number of corners in a game (e.g. Home Corners + Away Corners)\n",
    "main['TARGET']=df.HC+df.AC\n",
    "main.reset_index(inplace=True)\n"
   ]
  },
  {
   "cell_type": "code",
   "execution_count": 181,
   "metadata": {},
   "outputs": [],
   "source": [
    "teams_list = list(main.HomeTeam.unique())"
   ]
  },
  {
   "cell_type": "code",
   "execution_count": 182,
   "metadata": {},
   "outputs": [],
   "source": [
    "main.reset_index(inplace=True)"
   ]
  },
  {
   "cell_type": "code",
   "execution_count": 183,
   "metadata": {},
   "outputs": [],
   "source": [
    "# [FUNCTIONS] Home Team Last 1st 2nd 3rd Weeks' Goals\n",
    "def func_HOME_LG_GOALS_L1W(row):\n",
    "    filtered_df = main[(main['HomeTeam']==row['HomeTeam']) | (main['AwayTeam']==row['HomeTeam'])]\n",
    "    filtered_df = filtered_df[filtered_df['Date']<row['Date']]\n",
    "    filtered_df = filtered_df[filtered_df['Date']==filtered_df['Date'].max()]\n",
    "    try:\n",
    "        if(filtered_df.iloc[0]['HomeTeam']==row['HomeTeam']):\n",
    "            return int(filtered_df['FTHG'].values)\n",
    "        else:\n",
    "            return int(filtered_df['FTAG'].values)\n",
    "    except:\n",
    "        return np.nan\n",
    "    \n",
    "def func_HOME_LG_GOALS_L2W(row):\n",
    "    filtered_df = main[(main['HomeTeam']==row['HomeTeam']) | (main['AwayTeam']==row['HomeTeam'])]\n",
    "    filtered_df = filtered_df[filtered_df['Date']<row['Date']]\n",
    "    try:\n",
    "        filtered_df = filtered_df[filtered_df['Date']==filtered_df['Date'].sort_values(ascending=False).reset_index().loc[1]['Date']]\n",
    "        try:\n",
    "            if(filtered_df.iloc[0]['HomeTeam']==row['HomeTeam']):\n",
    "                return int(filtered_df['FTHG'].values)\n",
    "            else:\n",
    "                return int(filtered_df['FTAG'].values)\n",
    "        except:\n",
    "            return np.nan\n",
    "    except:\n",
    "        return np.nan\n",
    "    \n",
    "def func_HOME_LG_GOALS_L3W(row):\n",
    "    filtered_df = main[(main['HomeTeam']==row['HomeTeam']) | (main['AwayTeam']==row['HomeTeam'])]\n",
    "    filtered_df = filtered_df[filtered_df['Date']<row['Date']]\n",
    "    try:\n",
    "        filtered_df = filtered_df[filtered_df['Date']==filtered_df['Date'].sort_values(ascending=False).reset_index().loc[2]['Date']]\n",
    "        try:\n",
    "            if(filtered_df.iloc[0]['HomeTeam']==row['HomeTeam']):\n",
    "                return int(filtered_df['FTHG'].values)\n",
    "            else:\n",
    "                return int(filtered_df['FTAG'].values)\n",
    "        except:\n",
    "            return np.nan\n",
    "    except:\n",
    "        return np.nan"
   ]
  },
  {
   "cell_type": "code",
   "execution_count": 184,
   "metadata": {},
   "outputs": [],
   "source": [
    "# [FUNCTIONS] Away Team Last 1st 2nd 3rd Weeks' Goals\n",
    "def func_AWAY_LG_GOALS_L1W(row):\n",
    "    filtered_df = main[(main['HomeTeam']==row['AwayTeam']) | (main['AwayTeam']==row['AwayTeam'])]\n",
    "    filtered_df = filtered_df[filtered_df['Date']<row['Date']]\n",
    "    filtered_df = filtered_df[filtered_df['Date']==filtered_df['Date'].max()]\n",
    "    try:\n",
    "        if(filtered_df.iloc[0]['HomeTeam']==row['AwayTeam']):\n",
    "            return int(filtered_df['FTHG'].values)\n",
    "        else:\n",
    "            return int(filtered_df['FTAG'].values)\n",
    "    except:\n",
    "        return np.nan\n",
    "    \n",
    "def func_AWAY_LG_GOALS_L2W(row):\n",
    "    filtered_df = main[(main['HomeTeam']==row['AwayTeam']) | (main['AwayTeam']==row['AwayTeam'])]\n",
    "    filtered_df = filtered_df[filtered_df['Date']<row['Date']]\n",
    "    try:\n",
    "        filtered_df = filtered_df[filtered_df['Date']==filtered_df['Date'].sort_values(ascending=False).reset_index().loc[1]['Date']]\n",
    "        try:\n",
    "            if(filtered_df.iloc[0]['HomeTeam']==row['AwayTeam']):\n",
    "                return int(filtered_df['FTHG'].values)\n",
    "            else:\n",
    "                return int(filtered_df['FTAG'].values)\n",
    "        except:\n",
    "            return np.nan\n",
    "    except:\n",
    "        return np.nan\n",
    "    \n",
    "def func_AWAY_LG_GOALS_L3W(row):\n",
    "    filtered_df = main[(main['HomeTeam']==row['AwayTeam']) | (main['AwayTeam']==row['AwayTeam'])]\n",
    "    filtered_df = filtered_df[filtered_df['Date']<row['Date']]\n",
    "    try:\n",
    "        filtered_df = filtered_df[filtered_df['Date']==filtered_df['Date'].sort_values(ascending=False).reset_index().loc[2]['Date']]\n",
    "        try:\n",
    "            if(filtered_df.iloc[0]['HomeTeam']==row['AwayTeam']):\n",
    "                return int(filtered_df['FTHG'].values)\n",
    "            else:\n",
    "                return int(filtered_df['FTAG'].values)\n",
    "        except:\n",
    "            return np.nan\n",
    "    except:\n",
    "        return np.nan"
   ]
  },
  {
   "cell_type": "code",
   "execution_count": 185,
   "metadata": {},
   "outputs": [],
   "source": [
    "final_df = main.copy()"
   ]
  },
  {
   "cell_type": "code",
   "execution_count": 186,
   "metadata": {},
   "outputs": [],
   "source": [
    "final_df['HOME_LG_GOALS_L1W']=final_df.apply(func_HOME_LG_GOALS_L1W,axis=1)\n",
    "final_df['HOME_LG_GOALS_L2W']=final_df.apply(func_HOME_LG_GOALS_L2W,axis=1)\n",
    "final_df['HOME_LG_GOALS_L3W']=final_df.apply(func_HOME_LG_GOALS_L3W,axis=1)\n",
    "final_df['HOME_LG_GOALS_L3W_COMB']=final_df.HOME_LG_GOALS_L1W+final_df.HOME_LG_GOALS_L2W+final_df.HOME_LG_GOALS_L3W"
   ]
  },
  {
   "cell_type": "code",
   "execution_count": 187,
   "metadata": {},
   "outputs": [],
   "source": [
    "final_df['AWAY_LG_GOALS_L1W']=final_df.apply(func_AWAY_LG_GOALS_L1W,axis=1)\n",
    "final_df['AWAY_LG_GOALS_L2W']=final_df.apply(func_AWAY_LG_GOALS_L2W,axis=1)\n",
    "final_df['AWAY_LG_GOALS_L3W']=final_df.apply(func_AWAY_LG_GOALS_L3W,axis=1)\n",
    "final_df['AWAY_LG_GOALS_L3W_COMB']=final_df.AWAY_LG_GOALS_L1W+final_df.AWAY_LG_GOALS_L2W+final_df.AWAY_LG_GOALS_L3W"
   ]
  },
  {
   "cell_type": "code",
   "execution_count": 175,
   "metadata": {},
   "outputs": [
    {
     "data": {
      "text/plain": [
       "(1859, 32)"
      ]
     },
     "execution_count": 175,
     "metadata": {},
     "output_type": "execute_result"
    }
   ],
   "source": [
    "main[main['AWAY_LG_GOALS_L3W'].isna()==False].shape"
   ]
  },
  {
   "cell_type": "code",
   "execution_count": 189,
   "metadata": {},
   "outputs": [],
   "source": [
    "final_df.to_excel('test1.xlsx')"
   ]
  },
  {
   "cell_type": "code",
   "execution_count": null,
   "metadata": {},
   "outputs": [],
   "source": []
  }
 ],
 "metadata": {
  "kernelspec": {
   "display_name": "Python 3",
   "language": "python",
   "name": "python3"
  },
  "language_info": {
   "codemirror_mode": {
    "name": "ipython",
    "version": 3
   },
   "file_extension": ".py",
   "mimetype": "text/x-python",
   "name": "python",
   "nbconvert_exporter": "python",
   "pygments_lexer": "ipython3",
   "version": "3.7.3"
  }
 },
 "nbformat": 4,
 "nbformat_minor": 2
}
